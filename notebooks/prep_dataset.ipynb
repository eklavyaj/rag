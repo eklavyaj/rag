{
 "cells": [
  {
   "cell_type": "code",
   "execution_count": 32,
   "id": "ec529f45",
   "metadata": {},
   "outputs": [],
   "source": [
    "from datasets import load_dataset,concatenate_datasets"
   ]
  },
  {
   "cell_type": "code",
   "execution_count": 25,
   "id": "88608333",
   "metadata": {},
   "outputs": [],
   "source": [
    "finance_qa_dataset_name = \"gbharti/finance-alpaca\"\n",
    "text_2_sql_dataset_name = \"Clinton/Text-to-sql-v1\"\n",
    "math_dataset_name = \"math_qa\""
   ]
  },
  {
   "cell_type": "code",
   "execution_count": 3,
   "id": "eff44c13",
   "metadata": {},
   "outputs": [
    {
     "data": {
      "application/vnd.jupyter.widget-view+json": {
       "model_id": "2eb635a3c64e401bba833a151779b721",
       "version_major": 2,
       "version_minor": 0
      },
      "text/plain": [
       "Downloading readme:   0%|          | 0.00/118 [00:00<?, ?B/s]"
      ]
     },
     "metadata": {},
     "output_type": "display_data"
    },
    {
     "data": {
      "application/vnd.jupyter.widget-view+json": {
       "model_id": "682dd7fc790f4a4a89a51efff89b9956",
       "version_major": 2,
       "version_minor": 0
      },
      "text/plain": [
       "Downloading data files:   0%|          | 0/1 [00:00<?, ?it/s]"
      ]
     },
     "metadata": {},
     "output_type": "display_data"
    },
    {
     "data": {
      "application/vnd.jupyter.widget-view+json": {
       "model_id": "ea768e7c267c4c5186fea40f45e6255d",
       "version_major": 2,
       "version_minor": 0
      },
      "text/plain": [
       "Downloading data:   0%|          | 0.00/635M [00:00<?, ?B/s]"
      ]
     },
     "metadata": {},
     "output_type": "display_data"
    },
    {
     "data": {
      "application/vnd.jupyter.widget-view+json": {
       "model_id": "27615f124adf4cc7b945866598876358",
       "version_major": 2,
       "version_minor": 0
      },
      "text/plain": [
       "Extracting data files:   0%|          | 0/1 [00:00<?, ?it/s]"
      ]
     },
     "metadata": {},
     "output_type": "display_data"
    },
    {
     "data": {
      "application/vnd.jupyter.widget-view+json": {
       "model_id": "9ab1c8c0e2ad491e8946ad5a9388ad92",
       "version_major": 2,
       "version_minor": 0
      },
      "text/plain": [
       "Generating train split: 0 examples [00:00, ? examples/s]"
      ]
     },
     "metadata": {},
     "output_type": "display_data"
    }
   ],
   "source": [
    "text_2_sql_dataset = load_dataset(text_2_sql_dataset_name, split=\"train\")"
   ]
  },
  {
   "cell_type": "code",
   "execution_count": 4,
   "id": "de231005",
   "metadata": {},
   "outputs": [
    {
     "data": {
      "text/plain": [
       "{'instruction': 'Name the home team for carlton away team',\n",
       " 'input': 'CREATE TABLE table_name_77 (\\n    home_team VARCHAR,\\n    away_team VARCHAR\\n)',\n",
       " 'response': 'SELECT home_team FROM table_name_77 WHERE away_team = \"carlton\"',\n",
       " 'source': 'sql_create_context',\n",
       " 'text': 'Below are sql tables schemas paired with instruction that describes a task. Using valid SQLite, write a response that appropriately completes the request for the provided tables. ### Instruction: Name the home team for carlton away team ### Input: CREATE TABLE table_name_77 (\\n    home_team VARCHAR,\\n    away_team VARCHAR\\n) ### Response: SELECT home_team FROM table_name_77 WHERE away_team = \"carlton\"'}"
      ]
     },
     "execution_count": 4,
     "metadata": {},
     "output_type": "execute_result"
    }
   ],
   "source": [
    "text_2_sql_dataset[0]"
   ]
  },
  {
   "cell_type": "code",
   "execution_count": 6,
   "id": "45a495bc",
   "metadata": {},
   "outputs": [
    {
     "data": {
      "text/plain": [
       "['Below are sql tables schemas paired with instruction that describes a task. Using valid SQLite, write a response that appropriately completes the request for the provided tables. ### Instruction: Name the home team for carlton away team ### Input: CREATE TABLE table_name_77 (\\n    home_team VARCHAR,\\n    away_team VARCHAR\\n) ### ',\n",
       " ' SELECT home_team FROM table_name_77 WHERE away_team = \"carlton\"']"
      ]
     },
     "execution_count": 6,
     "metadata": {},
     "output_type": "execute_result"
    }
   ],
   "source": [
    "text_2_sql_dataset[0]['text'].split(\"Response:\")"
   ]
  },
  {
   "cell_type": "code",
   "execution_count": 7,
   "id": "644c7848",
   "metadata": {},
   "outputs": [
    {
     "data": {
      "application/vnd.jupyter.widget-view+json": {
       "model_id": "8fdf89cbe4b04642bcb66478aa2aa978",
       "version_major": 2,
       "version_minor": 0
      },
      "text/plain": [
       "Map (num_proc=4):   0%|          | 0/262208 [00:00<?, ? examples/s]"
      ]
     },
     "metadata": {},
     "output_type": "display_data"
    }
   ],
   "source": [
    "text_2_sql_dataset = text_2_sql_dataset.map(\n",
    "    lambda example: {\"text\": \n",
    "                     \"<s>[INST] \" + example[\"text\"].split(\"Response\")[0] + \"[/INST]\" + example[\"text\"].split(\"Response\")[1] + \"</s>\"},\n",
    "    num_proc=4,\n",
    ")"
   ]
  },
  {
   "cell_type": "code",
   "execution_count": 8,
   "id": "ed64e2c7",
   "metadata": {},
   "outputs": [],
   "source": [
    "text_2_sql_dataset = text_2_sql_dataset.remove_columns([\"input\", \"instruction\", \"response\",\"source\"])"
   ]
  },
  {
   "cell_type": "code",
   "execution_count": 9,
   "id": "b7fc59c1",
   "metadata": {},
   "outputs": [
    {
     "data": {
      "text/plain": [
       "{'text': '<s>[INST] Below are sql tables schemas paired with instruction that describes a task. Using valid SQLite, write a response that appropriately completes the request for the provided tables. ### Instruction: Name the home team for carlton away team ### Input: CREATE TABLE table_name_77 (\\n    home_team VARCHAR,\\n    away_team VARCHAR\\n) ### [/INST]: SELECT home_team FROM table_name_77 WHERE away_team = \"carlton\"</s>'}"
      ]
     },
     "execution_count": 9,
     "metadata": {},
     "output_type": "execute_result"
    }
   ],
   "source": [
    "text_2_sql_dataset[0]"
   ]
  },
  {
   "cell_type": "code",
   "execution_count": null,
   "id": "81fb9cea",
   "metadata": {},
   "outputs": [],
   "source": []
  },
  {
   "cell_type": "code",
   "execution_count": 19,
   "id": "9515e177",
   "metadata": {},
   "outputs": [],
   "source": [
    "math_dataset = load_dataset(math_dataset_name, split=\"train\")"
   ]
  },
  {
   "cell_type": "code",
   "execution_count": 20,
   "id": "564f39d2",
   "metadata": {},
   "outputs": [
    {
     "data": {
      "text/plain": [
       "['\"explanation : t = 3 years r = 10 % td = ( bg × 100 ) / tr = ( 36 × 100 ) / ( 3 × 10 ) = 12 × 10 = rs . 120 td = ( pw × tr ) / 100 ⇒ 120 = ( pw × 3 × 10 ) / 100 ⇒ 1200 = pw × 3 pw = 1200 / 3 = rs . 400 ',\n",
       " ' : option a\"']"
      ]
     },
     "execution_count": 20,
     "metadata": {},
     "output_type": "execute_result"
    }
   ],
   "source": [
    "math_dataset[0]['Rationale'].split(\"answer\")"
   ]
  },
  {
   "cell_type": "code",
   "execution_count": 21,
   "id": "2810cc69",
   "metadata": {},
   "outputs": [],
   "source": [
    "math_dataset = math_dataset.map(\n",
    "    lambda example: {\"text\": \n",
    "                     \"<s>[INST] \" + example[\"Problem\"] + \"[/INST]\" + example[\"Rationale\"].split(\"answer\")[0] + \"</s>\"},\n",
    "    num_proc=4,\n",
    ")"
   ]
  },
  {
   "cell_type": "code",
   "execution_count": 22,
   "id": "9b315b6c",
   "metadata": {},
   "outputs": [
    {
     "data": {
      "text/plain": [
       "{'Problem': \"the banker ' s gain of a certain sum due 3 years hence at 10 % per annum is rs . 36 . what is the present worth ?\",\n",
       " 'Rationale': '\"explanation : t = 3 years r = 10 % td = ( bg × 100 ) / tr = ( 36 × 100 ) / ( 3 × 10 ) = 12 × 10 = rs . 120 td = ( pw × tr ) / 100 ⇒ 120 = ( pw × 3 × 10 ) / 100 ⇒ 1200 = pw × 3 pw = 1200 / 3 = rs . 400 answer : option a\"',\n",
       " 'options': 'a ) rs . 400 , b ) rs . 300 , c ) rs . 500 , d ) rs . 350 , e ) none of these',\n",
       " 'correct': 'a',\n",
       " 'annotated_formula': 'divide(multiply(const_100, divide(multiply(36, const_100), multiply(3, 10))), multiply(3, 10))',\n",
       " 'linear_formula': 'multiply(n2,const_100)|multiply(n0,n1)|divide(#0,#1)|multiply(#2,const_100)|divide(#3,#1)|',\n",
       " 'category': 'gain',\n",
       " 'text': '<s>[INST] the banker \\' s gain of a certain sum due 3 years hence at 10 % per annum is rs . 36 . what is the present worth ?[/INST]\"explanation : t = 3 years r = 10 % td = ( bg × 100 ) / tr = ( 36 × 100 ) / ( 3 × 10 ) = 12 × 10 = rs . 120 td = ( pw × tr ) / 100 ⇒ 120 = ( pw × 3 × 10 ) / 100 ⇒ 1200 = pw × 3 pw = 1200 / 3 = rs . 400 </s>'}"
      ]
     },
     "execution_count": 22,
     "metadata": {},
     "output_type": "execute_result"
    }
   ],
   "source": [
    "math_dataset[0]"
   ]
  },
  {
   "cell_type": "code",
   "execution_count": 23,
   "id": "aeb9d868",
   "metadata": {},
   "outputs": [],
   "source": [
    "math_dataset = math_dataset.remove_columns([\"Problem\", \"Rationale\", \"options\",\"correct\",\"annotated_formula\",\"linear_formula\", \"category\"])"
   ]
  },
  {
   "cell_type": "code",
   "execution_count": 24,
   "id": "329b9622",
   "metadata": {},
   "outputs": [
    {
     "data": {
      "text/plain": [
       "{'text': '<s>[INST] the banker \\' s gain of a certain sum due 3 years hence at 10 % per annum is rs . 36 . what is the present worth ?[/INST]\"explanation : t = 3 years r = 10 % td = ( bg × 100 ) / tr = ( 36 × 100 ) / ( 3 × 10 ) = 12 × 10 = rs . 120 td = ( pw × tr ) / 100 ⇒ 120 = ( pw × 3 × 10 ) / 100 ⇒ 1200 = pw × 3 pw = 1200 / 3 = rs . 400 </s>'}"
      ]
     },
     "execution_count": 24,
     "metadata": {},
     "output_type": "execute_result"
    }
   ],
   "source": [
    "math_dataset[0]"
   ]
  },
  {
   "cell_type": "code",
   "execution_count": null,
   "id": "6b5a2722",
   "metadata": {},
   "outputs": [],
   "source": []
  },
  {
   "cell_type": "code",
   "execution_count": 26,
   "id": "7cc07d2d",
   "metadata": {},
   "outputs": [],
   "source": [
    "finance_qa_dataset = load_dataset(finance_qa_dataset_name, split=\"train\")"
   ]
  },
  {
   "cell_type": "code",
   "execution_count": 27,
   "id": "03922fcb",
   "metadata": {},
   "outputs": [],
   "source": [
    "finance_qa_dataset = finance_qa_dataset.map(\n",
    "    lambda example: {\"text\": \n",
    "                     \"<s>[INST] \" + example[\"instruction\"] + \"[/INST]\" + example[\"output\"] + \"</s>\"},\n",
    "    num_proc=4,\n",
    ")"
   ]
  },
  {
   "cell_type": "code",
   "execution_count": 28,
   "id": "9e8d15b0",
   "metadata": {},
   "outputs": [],
   "source": [
    "finance_qa_dataset = finance_qa_dataset.remove_columns([\"input\", \"instruction\", \"output\"])"
   ]
  },
  {
   "cell_type": "code",
   "execution_count": 29,
   "id": "c2b7704a",
   "metadata": {},
   "outputs": [
    {
     "data": {
      "text/plain": [
       "{'text': \"<s>[INST] For a car, what scams can be plotted with 0% financing vs rebate?[/INST]The car deal makes money 3 ways. If you pay in one lump payment. If the payment is greater than what they paid for the car, plus their expenses, they make a profit. They loan you the money. You make payments over months or years, if the total amount you pay is greater than what they paid for the car, plus their expenses, plus their finance expenses they make money. Of course the money takes years to come in, or they sell your loan to another business to get the money faster but in a smaller amount. You trade in a car and they sell it at a profit. Of course that new transaction could be a lump sum or a loan on the used car... They or course make money if you bring the car back for maintenance, or you buy lots of expensive dealer options. Some dealers wave two deals in front of you: get a 0% interest loan. These tend to be shorter 12 months vs 36,48,60 or even 72 months. The shorter length makes it harder for many to afford. If you can't swing the 12 large payments they offer you at x% loan for y years that keeps the payments in your budget. pay cash and get a rebate. If you take the rebate you can't get the 0% loan. If you take the 0% loan you can't get the rebate. The price you negotiate minus the rebate is enough to make a profit. The key is not letting them know which offer you are interested in. Don't even mention a trade in until the price of the new car has been finalized. Otherwise they will adjust the price, rebate, interest rate, length of loan,  and trade-in value to maximize their profit. The suggestion of running the numbers through a spreadsheet is a good one. If you get a loan for 2% from your bank/credit union for 3 years and the rebate from the dealer, it will cost less in total than the 0% loan from the dealer. The key is to get the loan approved by the bank/credit union before meeting with the dealer. The money from the bank looks like cash to the dealer.</s>\"}"
      ]
     },
     "execution_count": 29,
     "metadata": {},
     "output_type": "execute_result"
    }
   ],
   "source": [
    "finance_qa_dataset[0]"
   ]
  },
  {
   "cell_type": "code",
   "execution_count": null,
   "id": "2ffc93d7",
   "metadata": {},
   "outputs": [],
   "source": []
  },
  {
   "cell_type": "code",
   "execution_count": 30,
   "id": "db8ad369",
   "metadata": {},
   "outputs": [],
   "source": [
    "text_2_sql_dataset = text_2_sql_dataset.select(range(1000))\n",
    "math_dataset = math_dataset.select(range(1000))\n",
    "finance_qa_dataset = finance_qa_dataset.select(range(1000))"
   ]
  },
  {
   "cell_type": "code",
   "execution_count": 35,
   "id": "f6df4179",
   "metadata": {},
   "outputs": [
    {
     "data": {
      "text/plain": [
       "datasets.arrow_dataset.Dataset"
      ]
     },
     "execution_count": 35,
     "metadata": {},
     "output_type": "execute_result"
    }
   ],
   "source": [
    "type(text_2_sql_dataset)"
   ]
  },
  {
   "cell_type": "code",
   "execution_count": 38,
   "id": "67495d59",
   "metadata": {},
   "outputs": [],
   "source": [
    "temp_dataset = concatenate_datasets([text_2_sql_dataset, math_dataset])\n",
    "final_dataset = concatenate_datasets([temp_dataset,finance_qa_dataset])"
   ]
  },
  {
   "cell_type": "code",
   "execution_count": 39,
   "id": "2882a1c0",
   "metadata": {},
   "outputs": [
    {
     "data": {
      "application/vnd.jupyter.widget-view+json": {
       "model_id": "7faa6366a95f4cfbaf98b5db5a33e54a",
       "version_major": 2,
       "version_minor": 0
      },
      "text/plain": [
       "Saving the dataset (0/1 shards):   0%|          | 0/3000 [00:00<?, ? examples/s]"
      ]
     },
     "metadata": {},
     "output_type": "display_data"
    }
   ],
   "source": [
    "final_dataset.save_to_disk('final_dataset')"
   ]
  },
  {
   "cell_type": "code",
   "execution_count": null,
   "id": "aba44046",
   "metadata": {},
   "outputs": [],
   "source": []
  }
 ],
 "metadata": {
  "kernelspec": {
   "display_name": "Python 3 (ipykernel)",
   "language": "python",
   "name": "python3"
  },
  "language_info": {
   "codemirror_mode": {
    "name": "ipython",
    "version": 3
   },
   "file_extension": ".py",
   "mimetype": "text/x-python",
   "name": "python",
   "nbconvert_exporter": "python",
   "pygments_lexer": "ipython3",
   "version": "3.9.12"
  }
 },
 "nbformat": 4,
 "nbformat_minor": 5
}
